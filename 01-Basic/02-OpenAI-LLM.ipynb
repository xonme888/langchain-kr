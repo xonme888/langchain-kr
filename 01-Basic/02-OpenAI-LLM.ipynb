{
 "cells": [
  {
   "cell_type": "code",
   "execution_count": 1,
   "id": "3bf28f9e",
   "metadata": {},
   "outputs": [
    {
     "data": {
      "text/plain": [
       "True"
      ]
     },
     "execution_count": 1,
     "metadata": {},
     "output_type": "execute_result"
    }
   ],
   "source": [
    "# API KEY를 환경변수로 관리하기 위한 설정 파일\n",
    "from dotenv import load_dotenv\n",
    "\n",
    "# API KEY 정보로드\n",
    "load_dotenv()"
   ]
  },
  {
   "cell_type": "code",
   "execution_count": 2,
   "id": "93ac45ce",
   "metadata": {},
   "outputs": [
    {
     "name": "stdout",
     "output_type": "stream",
     "text": [
      "LangSmith 추적을 시작합니다.\n",
      "[프로젝트명]\n",
      "CH01-Basic\n"
     ]
    }
   ],
   "source": [
    "# LangSmith 추적을 설정합니다. https://smith.langchain.com\n",
    "# .env 파일에 LANGCHAIN_API_KEY를 입력합니다.\n",
    "# !pip install -qU langchain-teddynote\n",
    "from langchain_teddynote import logging\n",
    "\n",
    "# 프로젝트 이름을 입력합니다.\n",
    "logging.langsmith(\"CH01-Basic\")"
   ]
  },
  {
   "cell_type": "markdown",
   "id": "2550920c-09d8-48b3-be2f-b36362c37989",
   "metadata": {},
   "source": [
    "## ChatOpenAI\n",
    "\n",
    "OpenAI 사의 채팅 전용 Large Language Model(llm) 입니다.\n",
    "\n",
    "객체를 생성할 때 다음을 옵션 값을 지정할 수 있습니다. 옵션에 대한 상세 설명은 다음과 같습니다.\n",
    "\n",
    "`temperature`\n",
    "\n",
    "- 사용할 샘플링 온도는 0과 2 사이에서 선택합니다. 0.8과 같은 높은 값은 출력을 더 무작위하게 만들고, 0.2와 같은 낮은 값은 출력을 더 집중되고 결정론적으로 만듭니다.\n",
    "\n",
    "`max_tokens`\n",
    "\n",
    "- 채팅 완성에서 생성할 토큰의 최대 개수입니다.\n",
    "\n",
    "`model_name`: 적용 가능한 모델 리스트\n",
    "\n",
    "| 모델 계열       | 모델명 (API Name) | 입력       | 컨텍스트 윈도우  | 최대 출력 토큰 | 지식 마감일 (Cutoff) | 가격                  |\n",
    "| :---------- | :------------- | :------- | :-------- | :------- | :-------------- | :------------------------------ |\n",
    "| **GPT-5**   | `gpt-5`        | 텍스트, 이미지 | 400,000   | 128,000  | 2024년 9월 30일    | **입력:** $1.25<br>**출력:** $10.00 |\n",
    "|             | `gpt-5-mini`   | 텍스트, 이미지 | 400,000   | 128,000  | 2024년 5월 31일    | **입력:** $0.25<br>**출력:** $2.00  |\n",
    "|             | `gpt-5-nano`   | 텍스트, 이미지 | 400,000   | 128,000  | 2024년 5월 31일    | **입력:** $0.05<br>**출력:** $0.40  |\n",
    "| **GPT-4.1** | `gpt-4.1`      | 텍스트, 이미지 | 1,047,576 | 32,768   | 2024년 6월 1일     | **입력:** $2.00<br>**출력:** $8.00  |\n",
    "|             | `gpt-4.1-mini` | 텍스트, 이미지 | 1,047,576 | 32,768   | 2024년 6월 1일     | **입력:** $0.40<br>**출력:** $1.60  |\n",
    "|             | `gpt-4.1-nano` | 텍스트, 이미지 | 1,047,576 | 32,768   | 2024년 6월 1일     | **입력:** $0.10<br>**출력:** $0.40  |\n",
    "| **GPT-4o**  | `gpt-4o`       | 텍스트, 이미지 | 128,000   | 16,384   | 2023년 10월 1일    | **입력:** $2.50<br>**출력:** $10.00 |\n",
    "|             | `gpt-4o-mini`  | 텍스트, 이미지 | 128,000   | 16,384   | 2023년 10월 1일    | **입력:** $0.15<br>**출력:** $0.60  |\n",
    "\n",
    "![gpt-models.png](./images/gpt-models3-202508.png)\n",
    "\n",
    "- 링크: https://platform.openai.com/docs/models"
   ]
  },
  {
   "cell_type": "code",
   "execution_count": 24,
   "id": "5fc161c2",
   "metadata": {},
   "outputs": [
    {
     "name": "stdout",
     "output_type": "stream",
     "text": [
      "[답변]: content='대한민국의 수도는 서울입니다.' additional_kwargs={'refusal': None} response_metadata={'token_usage': {'completion_tokens': 8, 'prompt_tokens': 16, 'total_tokens': 24, 'completion_tokens_details': {'accepted_prediction_tokens': 0, 'audio_tokens': 0, 'reasoning_tokens': 0, 'rejected_prediction_tokens': 0}, 'prompt_tokens_details': {'audio_tokens': 0, 'cached_tokens': 0}}, 'model_name': 'gpt-4.1-nano-2025-04-14', 'system_fingerprint': 'fp_04d3664870', 'id': 'chatcmpl-CE55mxHCU34Hr1Zvev4hQzgSptt9t', 'service_tier': 'default', 'finish_reason': 'stop', 'logprobs': None} id='run--574685d1-dc46-478d-9f45-a988c32a96b7-0' usage_metadata={'input_tokens': 16, 'output_tokens': 8, 'total_tokens': 24, 'input_token_details': {'audio': 0, 'cache_read': 0}, 'output_token_details': {'audio': 0, 'reasoning': 0}}\n"
     ]
    }
   ],
   "source": [
    "from langchain_openai import ChatOpenAI\n",
    "\n",
    "# 객체 생성\n",
    "llm = ChatOpenAI(\n",
    "    temperature=0.1,  # 창의성 (0.0 ~ 2.0)\n",
    "    model_name=\"gpt-4.1-nano\",  # 모델명\n",
    ")\n",
    "\n",
    "# 질의내용\n",
    "question = \"대한민국의 수도는 어디인가요?\"\n",
    "\n",
    "# 질의\n",
    "print(f\"[답변]: {llm.invoke(question)}\")"
   ]
  },
  {
   "cell_type": "markdown",
   "id": "d2ef2647",
   "metadata": {},
   "source": [
    "### 답변의 형식(AI Message)"
   ]
  },
  {
   "cell_type": "code",
   "execution_count": 4,
   "id": "2af58a9a",
   "metadata": {},
   "outputs": [],
   "source": [
    "# 질의내용\n",
    "question = \"대한민국의 수도는 어디인가요?\"\n",
    "\n",
    "# 질의\n",
    "response = llm.invoke(question)"
   ]
  },
  {
   "cell_type": "code",
   "execution_count": 5,
   "id": "24ecdeb9",
   "metadata": {},
   "outputs": [
    {
     "data": {
      "text/plain": [
       "AIMessage(content='대한민국의 수도는 서울특별시(일명 서울)입니다.', additional_kwargs={'refusal': None}, response_metadata={'token_usage': {'completion_tokens': 153, 'prompt_tokens': 15, 'total_tokens': 168, 'completion_tokens_details': {'accepted_prediction_tokens': 0, 'audio_tokens': 0, 'reasoning_tokens': 128, 'rejected_prediction_tokens': 0}, 'prompt_tokens_details': {'audio_tokens': 0, 'cached_tokens': 0}}, 'model_name': 'gpt-5-nano-2025-08-07', 'system_fingerprint': None, 'id': 'chatcmpl-CE4wzsaFfj6Qh544s2gz7NgxjgA2G', 'service_tier': 'default', 'finish_reason': 'stop', 'logprobs': None}, id='run--80a6528c-5e40-4e7d-befc-50569a6ae2d4-0', usage_metadata={'input_tokens': 15, 'output_tokens': 153, 'total_tokens': 168, 'input_token_details': {'audio': 0, 'cache_read': 0}, 'output_token_details': {'audio': 0, 'reasoning': 128}})"
      ]
     },
     "execution_count": 5,
     "metadata": {},
     "output_type": "execute_result"
    }
   ],
   "source": [
    "response"
   ]
  },
  {
   "cell_type": "code",
   "execution_count": 10,
   "id": "ffd49c11",
   "metadata": {},
   "outputs": [
    {
     "data": {
      "text/plain": [
       "'대한민국의 수도는 서울특별시(일명 서울)입니다.'"
      ]
     },
     "execution_count": 10,
     "metadata": {},
     "output_type": "execute_result"
    }
   ],
   "source": [
    "response.content"
   ]
  },
  {
   "cell_type": "code",
   "execution_count": 11,
   "id": "4df69214",
   "metadata": {},
   "outputs": [
    {
     "data": {
      "text/plain": [
       "{'token_usage': {'completion_tokens': 153,\n",
       "  'prompt_tokens': 15,\n",
       "  'total_tokens': 168,\n",
       "  'completion_tokens_details': {'accepted_prediction_tokens': 0,\n",
       "   'audio_tokens': 0,\n",
       "   'reasoning_tokens': 128,\n",
       "   'rejected_prediction_tokens': 0},\n",
       "  'prompt_tokens_details': {'audio_tokens': 0, 'cached_tokens': 0}},\n",
       " 'model_name': 'gpt-5-nano-2025-08-07',\n",
       " 'system_fingerprint': None,\n",
       " 'id': 'chatcmpl-CE4wzsaFfj6Qh544s2gz7NgxjgA2G',\n",
       " 'service_tier': 'default',\n",
       " 'finish_reason': 'stop',\n",
       " 'logprobs': None}"
      ]
     },
     "execution_count": 11,
     "metadata": {},
     "output_type": "execute_result"
    }
   ],
   "source": [
    "response.response_metadata"
   ]
  },
  {
   "cell_type": "markdown",
   "id": "74c4a51a",
   "metadata": {},
   "source": [
    "### LogProb 활성화\n",
    "\n",
    "주어진 텍스트에 대한 모델의 **토큰 확률의 로그 값** 을 의미합니다. 토큰이란 문장을 구성하는 개별 단어나 문자 등의 요소를 의미하고, 확률은 **모델이 그 토큰을 예측할 확률**을 나타냅니다."
   ]
  },
  {
   "cell_type": "code",
   "execution_count": 14,
   "id": "fe733438",
   "metadata": {},
   "outputs": [],
   "source": [
    "# 객체 생성\n",
    "llm_with_logprob = ChatOpenAI(\n",
    "    temperature=0.1,  # 창의성 (0.0 ~ 2.0)\n",
    "    max_tokens=2048,  # 최대 토큰수\n",
    "    model_name=\"gpt-4.1-nano\",  # 모델명\n",
    ").bind(logprobs=True)"
   ]
  },
  {
   "cell_type": "code",
   "execution_count": 15,
   "id": "8ae2d627",
   "metadata": {},
   "outputs": [],
   "source": [
    "# 질의내용\n",
    "question = \"대한민국의 수도는 어디인가요?\"\n",
    "\n",
    "response = llm_with_logprob.invoke(question)"
   ]
  },
  {
   "cell_type": "code",
   "execution_count": 16,
   "id": "e6b0b9f7",
   "metadata": {},
   "outputs": [
    {
     "data": {
      "text/plain": [
       "{'token_usage': {'completion_tokens': 8,\n",
       "  'prompt_tokens': 16,\n",
       "  'total_tokens': 24,\n",
       "  'completion_tokens_details': {'accepted_prediction_tokens': 0,\n",
       "   'audio_tokens': 0,\n",
       "   'reasoning_tokens': 0,\n",
       "   'rejected_prediction_tokens': 0},\n",
       "  'prompt_tokens_details': {'audio_tokens': 0, 'cached_tokens': 0}},\n",
       " 'model_name': 'gpt-4.1-nano-2025-04-14',\n",
       " 'system_fingerprint': 'fp_7c233bf9d1',\n",
       " 'id': 'chatcmpl-CE50J1UhBjABG5cWUKhXpfamE4Mce',\n",
       " 'service_tier': 'default',\n",
       " 'finish_reason': 'stop',\n",
       " 'logprobs': {'content': [{'token': '대한',\n",
       "    'bytes': [235, 140, 128, 237, 149, 156],\n",
       "    'logprob': -2.2842308680992573e-05,\n",
       "    'top_logprobs': []},\n",
       "   {'token': '민국',\n",
       "    'bytes': [235, 175, 188, 234, 181, 173],\n",
       "    'logprob': -1.7432603272027336e-06,\n",
       "    'top_logprobs': []},\n",
       "   {'token': '의',\n",
       "    'bytes': [236, 157, 152],\n",
       "    'logprob': -8.2994620242971e-06,\n",
       "    'top_logprobs': []},\n",
       "   {'token': ' 수도',\n",
       "    'bytes': [32, 236, 136, 152, 235, 143, 132],\n",
       "    'logprob': -0.0002777822664938867,\n",
       "    'top_logprobs': []},\n",
       "   {'token': '는',\n",
       "    'bytes': [235, 138, 148],\n",
       "    'logprob': -4.7755875129951164e-05,\n",
       "    'top_logprobs': []},\n",
       "   {'token': ' 서울',\n",
       "    'bytes': [32, 236, 132, 156, 236, 154, 184],\n",
       "    'logprob': -0.00017267030489165336,\n",
       "    'top_logprobs': []},\n",
       "   {'token': '입니다',\n",
       "    'bytes': [236, 158, 133, 235, 139, 136, 235, 139, 164],\n",
       "    'logprob': -0.004722157027572393,\n",
       "    'top_logprobs': []},\n",
       "   {'token': '.',\n",
       "    'bytes': [46],\n",
       "    'logprob': -1.2471589798224159e-05,\n",
       "    'top_logprobs': []}],\n",
       "  'refusal': None}}"
      ]
     },
     "execution_count": 16,
     "metadata": {},
     "output_type": "execute_result"
    }
   ],
   "source": [
    "# 결과 출력\n",
    "response.response_metadata"
   ]
  },
  {
   "cell_type": "markdown",
   "id": "f8aec3e6",
   "metadata": {},
   "source": [
    "### 스트리밍 출력\n",
    "\n",
    "스트리밍 옵션은 질의에 대한 답변을 실시간으로 받을 때 유용합니다."
   ]
  },
  {
   "cell_type": "code",
   "execution_count": 29,
   "id": "1bbc5d03",
   "metadata": {},
   "outputs": [],
   "source": [
    "# 스트림 방식으로 질의\n",
    "# answer 에 스트리밍 답변의 결과를 받습니다.\n",
    "answer = llm.stream(\"대한민국의 아름다운 관광지 10곳과 주소를 알려주세요!\")"
   ]
  },
  {
   "cell_type": "code",
   "execution_count": 30,
   "id": "87a90e66",
   "metadata": {},
   "outputs": [
    {
     "name": "stdout",
     "output_type": "stream",
     "text": [
      "물론입니다! 대한민국의 아름다운 관광지 10곳과 그 주소를 소개해드리겠습니다.\n",
      "\n",
      "1. 경복궁 (Gyeongbokgung Palace)  \n",
      "서울특별시 종로구 사직로 161\n",
      "\n",
      "2. 제주도 한라산 국립공원 (Hallasan National Park)  \n",
      "제주특별자치도 제주시 특별자치도 제주시 한라산로 2070\n",
      "\n",
      "3. 부산 해운대 해수욕장 (Haeundae Beach)  \n",
      "부산광역시 해운대구 해운대해변로 264\n",
      "\n",
      "4. 강원도 설악산 국립공원 (Seoraksan National Park)  \n",
      "강원도 속초시 설악산로 833\n",
      "\n",
      "5. 경상남도 통영 동피랑 벽화마을 (Dongpirang Mural Village)  \n",
      "경상남도 통영시 통영해안로 1길 7-1\n",
      "\n",
      "6. 전라남도 순천만 습지 (Suncheon Bay Wetland Reserve)  \n",
      "전라남도 순천시 순천만길 251\n",
      "\n",
      "7. 충청남도 태안 안면도 꽃지해수욕장 (Kkotji Beach)  \n",
      "충청남도 태안군 안면읍 승언리\n",
      "\n",
      "8. 전라북도 무주 덕유산 리조트 (Deogyusan Resort)  \n",
      "전라북도 무주군 설천면 덕유산로 185\n",
      "\n",
      "9. 경상북도 경주 불국사 (Bulguksa Temple)  \n",
      "경상북도 경주시 불국로 385\n",
      "\n",
      "10. 인천 강화도 고려궁지 (Goryeo Palace Site)  \n",
      "인천광역시 강화군 강화읍 고려궁지로 1\n",
      "\n",
      "이 외에도 대한민국에는 아름다운 자연과 문화유산이 가득하니, 방문하실 때 참고하시기 바랍니다!"
     ]
    }
   ],
   "source": [
    "# 스트리밍 방식으로 각 토큰을 출력합니다. (실시간 출력)\n",
    "for token in answer:\n",
    "    print(token.content, end=\"\", flush=True)"
   ]
  },
  {
   "cell_type": "code",
   "execution_count": null,
   "id": "c6f079b9",
   "metadata": {},
   "outputs": [],
   "source": [
    "from langchain_teddynote.messages import stream_response\n",
    "\n",
    "# 스트림 방식으로 질의\n",
    "# answer 에 스트리밍 답변의 결과를 받습니다.\n",
    "answer = llm.stream(\"대한민국의 아름다운 관광지 10곳과 주소를 알려주세요!\")\n",
    "stream_response(answer)"
   ]
  },
  {
   "cell_type": "markdown",
   "id": "0e0e35de",
   "metadata": {},
   "source": [
    "## 프롬프트 캐싱\n",
    "\n",
    "- 참고 링크: https://platform.openai.com/docs/guides/prompt-caching"
   ]
  },
  {
   "cell_type": "markdown",
   "id": "7a06ff75",
   "metadata": {},
   "source": [
    "프롬프트 캐싱 기능을 활용하면 반복하여 동일하게 입력으로 들어가는 토큰에 대한 비용을 아낄 수 있습니다.\n",
    "\n",
    "다만, 캐싱에 활용할 토큰은 고정된 PREFIX 를 주는 것이 권장됩니다.\n",
    "\n",
    "아래의 예시에서는 `<PROMPT_CACHING>` 부분에 고정된 토큰을 주어 캐싱을 활용하는 방법을 설명합니다."
   ]
  },
  {
   "cell_type": "code",
   "execution_count": 25,
   "id": "b8b23cdc",
   "metadata": {},
   "outputs": [],
   "source": [
    "from langchain_teddynote.messages import stream_response\n",
    "\n",
    "very_long_prompt = \"\"\"\n",
    "당신은 매우 친절한 AI 어시스턴트 입니다. \n",
    "당신의 임무는 주어진 질문에 대해 친절하게 답변하는 것입니다.\n",
    "아래는 사용자의 질문에 답변할 때 참고할 수 있는 정보입니다.\n",
    "주어진 정보를 참고하여 답변해 주세요.\n",
    "\n",
    "<WANT_TO_CACHE_HERE>\n",
    "#참고:\n",
    "**Prompt Caching**\n",
    "Model prompts often contain repetitive content, like system prompts and common instructions. OpenAI routes API requests to servers that recently processed the same prompt, making it cheaper and faster than processing a prompt from scratch. This can reduce latency by up to 80% and cost by 50% for long prompts. Prompt Caching works automatically on all your API requests (no code changes required) and has no additional fees associated with it.\n",
    "\n",
    "Prompt Caching is enabled for the following models:\n",
    "\n",
    "gpt-4.1 (excludes gpt-4.1-2024-05-13 and chatgpt-4.1-latest)\n",
    "gpt-4.1-mini\n",
    "o1-preview\n",
    "o1-mini\n",
    "This guide describes how prompt caching works in detail, so that you can optimize your prompts for lower latency and cost.\n",
    "\n",
    "Structuring prompts\n",
    "Cache hits are only possible for exact prefix matches within a prompt. To realize caching benefits, place static content like instructions and examples at the beginning of your prompt, and put variable content, such as user-specific information, at the end. This also applies to images and tools, which must be identical between requests.\n",
    "\n",
    "How it works\n",
    "Caching is enabled automatically for prompts that are 1024 tokens or longer. When you make an API request, the following steps occur:\n",
    "\n",
    "Cache Lookup: The system checks if the initial portion (prefix) of your prompt is stored in the cache.\n",
    "Cache Hit: If a matching prefix is found, the system uses the cached result. This significantly decreases latency and reduces costs.\n",
    "Cache Miss: If no matching prefix is found, the system processes your full prompt. After processing, the prefix of your prompt is cached for future requests.\n",
    "Cached prefixes generally remain active for 5 to 10 minutes of inactivity. However, during off-peak periods, caches may persist for up to one hour.\n",
    "\n",
    "Requirements\n",
    "Caching is available for prompts containing 1024 tokens or more, with cache hits occurring in increments of 128 tokens. Therefore, the number of cached tokens in a request will always fall within the following sequence: 1024, 1152, 1280, 1408, and so on, depending on the prompt's length.\n",
    "\n",
    "All requests, including those with fewer than 1024 tokens, will display a cached_tokens field of the usage.prompt_tokens_details chat completions object indicating how many of the prompt tokens were a cache hit. For requests under 1024 tokens, cached_tokens will be zero.\n",
    "\n",
    "What can be cached\n",
    "Messages: The complete messages array, encompassing system, user, and assistant interactions.\n",
    "Images: Images included in user messages, either as links or as base64-encoded data, as well as multiple images can be sent. Ensure the detail parameter is set identically, as it impacts image tokenization.\n",
    "Tool use: Both the messages array and the list of available tools can be cached, contributing to the minimum 1024 token requirement.\n",
    "Structured outputs: The structured output schema serves as a prefix to the system message and can be cached.\n",
    "Best practices\n",
    "Structure prompts with static or repeated content at the beginning and dynamic content at the end.\n",
    "Monitor metrics such as cache hit rates, latency, and the percentage of tokens cached to optimize your prompt and caching strategy.\n",
    "To increase cache hits, use longer prompts and make API requests during off-peak hours, as cache evictions are more frequent during peak times.\n",
    "Prompts that haven't been used recently are automatically removed from the cache. To minimize evictions, maintain a consistent stream of requests with the same prompt prefix.\n",
    "Frequently asked questions\n",
    "How is data privacy maintained for caches?\n",
    "\n",
    "Prompt caches are not shared between organizations. Only members of the same organization can access caches of identical prompts.\n",
    "\n",
    "Does Prompt Caching affect output token generation or the final response of the API?\n",
    "\n",
    "Prompt Caching does not influence the generation of output tokens or the final response provided by the API. Regardless of whether caching is used, the output generated will be identical. This is because only the prompt itself is cached, while the actual response is computed anew each time based on the cached prompt. \n",
    "\n",
    "Is there a way to manually clear the cache?\n",
    "\n",
    "Manual cache clearing is not currently available. Prompts that have not been encountered recently are automatically cleared from the cache. Typical cache evictions occur after 5-10 minutes of inactivity, though sometimes lasting up to a maximum of one hour during off-peak periods.\n",
    "\n",
    "Will I be expected to pay extra for writing to Prompt Caching?\n",
    "\n",
    "No. Caching happens automatically, with no explicit action needed or extra cost paid to use the caching feature.\n",
    "\n",
    "Do cached prompts contribute to TPM rate limits?\n",
    "\n",
    "Yes, as caching does not affect rate limits.\n",
    "\n",
    "Is discounting for Prompt Caching available on Scale Tier and the Batch API?\n",
    "\n",
    "Discounting for Prompt Caching is not available on the Batch API but is available on Scale Tier. With Scale Tier, any tokens that are spilled over to the shared API will also be eligible for caching.\n",
    "\n",
    "Does Prompt Caching work on Zero Data Retention requests?\n",
    "\n",
    "Yes, Prompt Caching is compliant with existing Zero Data Retention policies.\n",
    "</WANT_TO_CACHE_HERE>\n",
    "\n",
    "#Question:\n",
    "{}\n",
    "\n",
    "\"\"\""
   ]
  },
  {
   "cell_type": "code",
   "execution_count": 26,
   "id": "5a62903d",
   "metadata": {},
   "outputs": [
    {
     "name": "stdout",
     "output_type": "stream",
     "text": [
      "Tokens Used: 1213\n",
      "\tPrompt Tokens: 1142\n",
      "\t\tPrompt Tokens Cached: 0\n",
      "\tCompletion Tokens: 71\n",
      "\t\tReasoning Tokens: 0\n",
      "Successful Requests: 1\n",
      "Total Cost (USD): $0.0001426\n",
      "캐싱된 토큰: 0\n"
     ]
    }
   ],
   "source": [
    "from langchain.callbacks import get_openai_callback\n",
    "\n",
    "with get_openai_callback() as cb:\n",
    "    # 답변 요청\n",
    "    answer = llm.invoke(\n",
    "        very_long_prompt.format(\"프롬프트 캐싱 기능에 대해 2문장으로 설명하세요\")\n",
    "    )\n",
    "    print(cb)\n",
    "    # 캐싱된 토큰 출력\n",
    "    cached_tokens = answer.response_metadata[\"token_usage\"][\"prompt_tokens_details\"][\n",
    "        \"cached_tokens\"\n",
    "    ]\n",
    "    print(f\"캐싱된 토큰: {cached_tokens}\")"
   ]
  },
  {
   "cell_type": "code",
   "execution_count": 27,
   "id": "4babc2f6",
   "metadata": {},
   "outputs": [
    {
     "name": "stdout",
     "output_type": "stream",
     "text": [
      "Tokens Used: 1217\n",
      "\tPrompt Tokens: 1142\n",
      "\t\tPrompt Tokens Cached: 1024\n",
      "\tCompletion Tokens: 75\n",
      "\t\tReasoning Tokens: 0\n",
      "Successful Requests: 1\n",
      "Total Cost (USD): $6.74e-05\n",
      "캐싱된 토큰: 1024\n"
     ]
    }
   ],
   "source": [
    "with get_openai_callback() as cb:\n",
    "    # 답변 요청\n",
    "    answer = llm.invoke(\n",
    "        very_long_prompt.format(\"프롬프트 캐싱 기능에 대해 2문장으로 설명하세요\")\n",
    "    )\n",
    "    print(cb)\n",
    "    # 캐싱된 토큰 출력\n",
    "    cached_tokens = answer.response_metadata[\"token_usage\"][\"prompt_tokens_details\"][\n",
    "        \"cached_tokens\"\n",
    "    ]\n",
    "    print(f\"캐싱된 토큰: {cached_tokens}\")"
   ]
  },
  {
   "cell_type": "markdown",
   "id": "0e95ce8b",
   "metadata": {},
   "source": [
    "## 멀티모달 모델(이미지 인식)\n",
    "\n",
    "멀티모달은 여러 가지 형태의 정보(모달)를 통합하여 처리하는 기술이나 접근 방식을 의미합니다. 이는 다음과 같은 다양한 데이터 유형을 포함할 수 있습니다.\n",
    "\n",
    "- 텍스트: 문서, 책, 웹 페이지 등의 글자로 된 정보\n",
    "- 이미지: 사진, 그래픽, 그림 등 시각적 정보\n",
    "- 오디오: 음성, 음악, 소리 효과 등의 청각적 정보\n",
    "- 비디오: 동영상 클립, 실시간 스트리밍 등 시각적 및 청각적 정보의 결합\n",
    "\n",
    "`gpt-4.1` 모델은 이미지 인식 기능(Vision) 이 추가되어 있는 모델입니다."
   ]
  },
  {
   "cell_type": "code",
   "execution_count": 31,
   "id": "a859058d",
   "metadata": {},
   "outputs": [],
   "source": [
    "from langchain_teddynote.models import MultiModal\n",
    "from langchain_teddynote.messages import stream_response\n",
    "\n",
    "# 객체 생성\n",
    "llm = ChatOpenAI(\n",
    "    temperature=0.1,  # 창의성 (0.0 ~ 2.0)\n",
    "    model_name=\"gpt-4.1-nano\",  # 모델명\n",
    ")\n",
    "\n",
    "# 멀티모달 객체 생성\n",
    "multimodal_llm = MultiModal(llm)"
   ]
  },
  {
   "cell_type": "code",
   "execution_count": 32,
   "id": "0c16ef3c",
   "metadata": {},
   "outputs": [
    {
     "data": {
      "text/html": [
       "<img src=\"data:image/jpeg;base64,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\"/>"
      ],
      "text/plain": [
       "<IPython.core.display.Image object>"
      ]
     },
     "metadata": {},
     "output_type": "display_data"
    },
    {
     "name": "stdout",
     "output_type": "stream",
     "text": [
      "The image displays a table titled \"TABLE 001: LOREM IPSUM DOLOR AMIS ENIMA ACCUMER TUNA,\" which appears to be a sample or placeholder table, possibly used for demonstrating table formatting or data presentation.\n",
      "\n",
      "**Table Structure and Content:**\n",
      "\n",
      "- **Columns:**\n",
      "  1. **First Column:** Contains various phrases or items, some of which are recognizable Latin-like placeholder text (e.g., \"Lorem dolor siamet,\" \"Consectet odio,\" \"Sed hac enim rem,\" etc.).\n",
      "  2. **Second Column:** Numerical data, possibly representing counts or measurements (e.g., 8,288; 123; 1,005; etc.).\n",
      "  3. **Third Column:** Percentage values, likely indicating proportions or rates (e.g., 123%, 87%, 12%, etc.).\n",
      "  4. **Fourth Column:** Responses or statuses, mostly \"YES,\" \"NO,\" or \"N/A.\"\n",
      "  5. **Fifth Column:** Monetary values in dollars, possibly representing costs, prices, or financial metrics (e.g., $89, $129, $99, etc.).\n",
      "\n",
      "- **Rows:**\n",
      "  Each row corresponds to a different item or category, with data filled across the columns.\n",
      "\n",
      "**Specific Data Points:**\n",
      "\n",
      "- \"Lorem dolor siamet\" has 8,288 units, 123% (which exceeds 100%, possibly indicating an error or a different metric), with a \"YES\" in the fourth column, and a value of $89.\n",
      "- \"Consectet odio\" has 123 units, 87%, with \"NO\" and $129.\n",
      "- \"Gatoque accums\" has 1,005 units, 12%, with \"NO\" and $99.\n",
      "- \"Sed hac enim rem\" has 56 units, 69%, with \"N/A\" and $199.\n",
      "- \"Rempus tortor just\" has 5,554 units, 18%, with \"NO\" and $999.\n",
      "- \"Klimas nsecter\" has 455 units, 56%, with \"NO\" and $245.\n",
      "- \"Babisak atoque accu\" has 1,222 units, 2%, with \"YES\" and $977.\n",
      "- \"Enim rem kos\" has 5,002 units, 91%, with \"N/A\" and $522.\n",
      "\n",
      "**Additional Text:**\n",
      "Below the table, there is a paragraph of placeholder text in Latin (Lorem ipsum), which is commonly used as filler text in design templates.\n",
      "\n",
      "**Summary:**\n",
      "This table appears to be a mock-up or sample data set, illustrating how data might be organized in a report or dashboard, with categories, quantitative metrics, percentages, status indicators, and associated costs. The use of Latin placeholder text suggests it is not real data but a template for presentation purposes."
     ]
    }
   ],
   "source": [
    "# 샘플 이미지 주소(웹사이트로 부터 바로 인식)\n",
    "IMAGE_URL = \"https://t3.ftcdn.net/jpg/03/77/33/96/360_F_377339633_Rtv9I77sSmSNcev8bEcnVxTHrXB4nRJ5.jpg\"\n",
    "\n",
    "# 이미지 파일로 부터 질의\n",
    "answer = multimodal_llm.stream(IMAGE_URL)\n",
    "# 스트리밍 방식으로 각 토큰을 출력합니다. (실시간 출력)\n",
    "stream_response(answer)"
   ]
  },
  {
   "cell_type": "code",
   "execution_count": null,
   "id": "006ec2bf",
   "metadata": {},
   "outputs": [],
   "source": [
    "# 로컬 PC 에 저장되어 있는 이미지의 경로 입력\n",
    "IMAGE_PATH_FROM_FILE = \"./images/sample-image.png\"\n",
    "\n",
    "# 이미지 파일로 부터 질의(스트림 방식)\n",
    "answer = multimodal_llm.stream(IMAGE_PATH_FROM_FILE)\n",
    "# 스트리밍 방식으로 각 토큰을 출력합니다. (실시간 출력)\n",
    "stream_response(answer)"
   ]
  },
  {
   "cell_type": "markdown",
   "id": "a7b5fc02",
   "metadata": {},
   "source": [
    "## System, User 프롬프트 수정"
   ]
  },
  {
   "cell_type": "code",
   "execution_count": 18,
   "id": "4be092af",
   "metadata": {},
   "outputs": [],
   "source": [
    "system_prompt = \"\"\"당신은 표(재무제표) 를 해석하는 금융 AI 어시스턴트 입니다. \n",
    "당신의 임무는 주어진 테이블 형식의 재무제표를 바탕으로 흥미로운 사실을 정리하여 친절하게 답변하는 것입니다.\"\"\"\n",
    "\n",
    "user_prompt = \"\"\"당신에게 주어진 표는 회사의 재무제표 입니다. 흥미로운 사실을 정리하여 답변하세요.\"\"\"\n",
    "\n",
    "# 멀티모달 객체 생성\n",
    "multimodal_llm_with_prompt = MultiModal(\n",
    "    llm, system_prompt=system_prompt, user_prompt=user_prompt\n",
    ")"
   ]
  },
  {
   "cell_type": "code",
   "execution_count": null,
   "id": "51735d05",
   "metadata": {},
   "outputs": [],
   "source": [
    "# 로컬 PC 에 저장되어 있는 이미지의 경로 입력\n",
    "IMAGE_PATH_FROM_FILE = \"https://storage.googleapis.com/static.fastcampus.co.kr/prod/uploads/202212/080345-661/kwon-01.png\"\n",
    "\n",
    "# 이미지 파일로 부터 질의(스트림 방식)\n",
    "answer = multimodal_llm_with_prompt.stream(IMAGE_PATH_FROM_FILE)\n",
    "\n",
    "# 스트리밍 방식으로 각 토큰을 출력합니다. (실시간 출력)\n",
    "stream_response(answer)"
   ]
  }
 ],
 "metadata": {
  "kernelspec": {
   "display_name": "langchain-kr-tbq9RUb_-py3.11",
   "language": "python",
   "name": "python3"
  },
  "language_info": {
   "codemirror_mode": {
    "name": "ipython",
    "version": 3
   },
   "file_extension": ".py",
   "mimetype": "text/x-python",
   "name": "python",
   "nbconvert_exporter": "python",
   "pygments_lexer": "ipython3",
   "version": "3.11.13"
  }
 },
 "nbformat": 4,
 "nbformat_minor": 5
}
