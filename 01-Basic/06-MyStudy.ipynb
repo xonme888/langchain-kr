{
 "cells": [
  {
   "cell_type": "code",
   "execution_count": null,
   "id": "7b0c18b0",
   "metadata": {},
   "outputs": [
    {
     "data": {
      "text/plain": [
       "True"
      ]
     },
     "execution_count": 2,
     "metadata": {},
     "output_type": "execute_result"
    }
   ],
   "source": [
    "from dotenv import load_dotenv\n",
    "\n",
    "# API KEY 정보로드\n",
    "load_dotenv()"
   ]
  },
  {
   "cell_type": "code",
   "execution_count": 4,
   "id": "6a6424ef",
   "metadata": {},
   "outputs": [
    {
     "name": "stdout",
     "output_type": "stream",
     "text": [
      "LangSmith 추적을 시작합니다.\n",
      "[프로젝트명]\n",
      "CH01-MyStudy-LCEL-Runnable\n"
     ]
    }
   ],
   "source": [
    "from langchain_teddynote import logging\n",
    "\n",
    "# 프로젝트 이름을 입력합니다.\n",
    "logging.langsmith(\"CH01-MyStudy-LCEL-Runnable\")"
   ]
  },
  {
   "cell_type": "code",
   "execution_count": 9,
   "id": "50025d04",
   "metadata": {},
   "outputs": [],
   "source": [
    "from langchain_openai import ChatOpenAI\n",
    "from langchain_core.prompts import PromptTemplate\n",
    "from langchain_core.output_parsers import StrOutputParser\n",
    "\n",
    "# ChatOpenAI 모델을 인스턴스화합니다.\n",
    "model = ChatOpenAI(model=\"gpt-4.1-nano\", temperature=0.1)\n",
    "# 주어진 토픽에 대한 농담을 요청하는 프롬프트 템플릿을 생성합니다.\n",
    "prompt = PromptTemplate.from_template(\"{topic} 에 대하여 3문장으로 설명해줘.\")\n",
    "# 프롬프트와 모델을 연결하여 대화 체인을 생성합니다.\n",
    "chain = prompt | model | StrOutputParser()"
   ]
  },
  {
   "cell_type": "code",
   "execution_count": null,
   "id": "ddaf8aa2",
   "metadata": {},
   "outputs": [
    {
     "name": "stdout",
     "output_type": "stream",
     "text": [
      "코딩은 컴퓨터에게 특정 작업을 수행하도록 명령을 내리는 과정입니다. 프로그래밍 언어를 사용하여 알고리즘과 로직을 작성하며, 이를 통해 다양한 소프트웨어와 애플리케이션을 개발할 수 있습니다. 코딩은 문제 해결 능력과 창의성을 바탕으로 효율적이고 기능적인 프로그램을 만드는 핵심 기술입니다."
     ]
    }
   ],
   "source": [
    "for x in chain.stream({\"topic\": \"코딩\"}):\n",
    "    print(x, end=\"\", flush=True)"
   ]
  },
  {
   "cell_type": "code",
   "execution_count": 51,
   "id": "7240336b",
   "metadata": {},
   "outputs": [],
   "source": [
    "from langchain_core.runnables import RunnableParallel, RunnablePick, RunnablePassthrough\n",
    "\n",
    "runnable = RunnableParallel(\n",
    "    # RunnablePassthrough 인스턴스를 'passed' 키워드 인자로 전달합니다. 이는 입력된 데이터를 그대로 통과시키는 역할을 합니다.\n",
    "    passed=RunnablePassthrough(),\n",
    "    # 'extra' 키워드 인자로 RunnablePassthrough.assign을 사용하여, 'mult' 람다 함수를 할당합니다. 이 함수는 입력된 딕셔너리의 'num' 키에 해당하는 값을 3배로 증가시킵니다.\n",
    "    extra=RunnablePassthrough.assign(three_operation=lambda x: x[\"num\"] * 3),\n",
    "    # 'modified' 키워드 인자로 람다 함수를 전달합니다. 이 함수는 입력된 딕셔너리의 'num' 키에 해당하는 값에 1을 더합니다.\n",
    "    modified=lambda x: x[\"num\"] + 1,\n",
    ")"
   ]
  },
  {
   "cell_type": "code",
   "execution_count": 52,
   "id": "f921e874",
   "metadata": {},
   "outputs": [
    {
     "data": {
      "text/plain": [
       "{'passed': {'num': 11, 'age': 28},\n",
       " 'extra': {'num': 11, 'age': 28, 'three_operation': 33},\n",
       " 'modified': 12}"
      ]
     },
     "execution_count": 52,
     "metadata": {},
     "output_type": "execute_result"
    }
   ],
   "source": [
    "runnable.invoke({\"num\": 11, \"age\": 28})"
   ]
  },
  {
   "cell_type": "code",
   "execution_count": null,
   "id": "c888048e",
   "metadata": {},
   "outputs": [],
   "source": [
    "from langchain_core.runnables import RunnablePick\n",
    "\n",
    "runnable_chain = (\n",
    "    {\"num\": RunnablePick(keys=\"num\")}\n",
    "    | PromptTemplate.from_template(\"{num}에 1을 더하면 {{num + 1}}\")\n",
    "    | ChatOpenAI(model=\"gpt-4.1-nano\", temperature=0.1)\n",
    "    | StrOutputParser()\n",
    ")"
   ]
  },
  {
   "cell_type": "code",
   "execution_count": 65,
   "id": "1c5b9353",
   "metadata": {},
   "outputs": [
    {
     "data": {
      "text/plain": [
       "{\n",
       "  num: RunnablePick(keys='num')\n",
       "}\n",
       "| PromptTemplate(input_variables=['num'], input_types={}, partial_variables={}, template='{num}에 1을 더하면 {{num + 1}}')\n",
       "| ChatOpenAI(client=<openai.resources.chat.completions.completions.Completions object at 0x16a7c8150>, async_client=<openai.resources.chat.completions.completions.AsyncCompletions object at 0x16a760ed0>, root_client=<openai.OpenAI object at 0x16a74a2d0>, root_async_client=<openai.AsyncOpenAI object at 0x16a7cab10>, model_name='gpt-4.1-nano', temperature=0.1, model_kwargs={}, openai_api_key=SecretStr('**********'))\n",
       "| StrOutputParser()"
      ]
     },
     "execution_count": 65,
     "metadata": {},
     "output_type": "execute_result"
    }
   ],
   "source": [
    "runnable_chain"
   ]
  },
  {
   "cell_type": "code",
   "execution_count": 82,
   "id": "ebc1834d",
   "metadata": {},
   "outputs": [
    {
     "name": "stdout",
     "output_type": "stream",
     "text": [
      "text='11에 1을 더하면 {num + 1}'\n",
      "text='11에 1을 더하면 11+1='\n"
     ]
    }
   ],
   "source": [
    "# 수식을 아래와 같은 방식으로 작성시 문제를 그대로 출력할 수 없습니다.\n",
    "formula = {\"num\": lambda x: x[\"num\"]} | PromptTemplate.from_template(\n",
    "    \"{num}에 1을 더하면 {{num + 1}}\"\n",
    ")\n",
    "print(f'{ formula.invoke({\"num\": 11, \"age\": 28})}')\n",
    "\n",
    "formula = {\n",
    "    \"num\": lambda x: x[\"num\"],\n",
    "    \"formula\": lambda x: f\"{x['num']}+1\",\n",
    "} | PromptTemplate.from_template(\"{num}에 1을 더하면 {formula}=\")\n",
    "print(f'{ formula.invoke({\"num\": 11, \"age\": 28})}')"
   ]
  }
 ],
 "metadata": {
  "kernelspec": {
   "display_name": "langchain-kr-tbq9RUb_-py3.11",
   "language": "python",
   "name": "python3"
  },
  "language_info": {
   "codemirror_mode": {
    "name": "ipython",
    "version": 3
   },
   "file_extension": ".py",
   "mimetype": "text/x-python",
   "name": "python",
   "nbconvert_exporter": "python",
   "pygments_lexer": "ipython3",
   "version": "3.11.13"
  }
 },
 "nbformat": 4,
 "nbformat_minor": 5
}
